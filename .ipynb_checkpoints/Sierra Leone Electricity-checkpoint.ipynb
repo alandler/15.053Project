{
 "cells": [
  {
   "cell_type": "code",
   "execution_count": 1,
   "metadata": {},
   "outputs": [],
   "source": [
    "using Gurobi, LinearAlgebra, Ipopt, CSV, JuMP, DataFrames, Clp, Cbc, Dates"
   ]
  },
  {
   "cell_type": "markdown",
   "metadata": {},
   "source": [
    "### Model 1: Maximum coverage with a limit of areas that can be covered, x and y not within .01 of existing electricity"
   ]
  },
  {
   "cell_type": "markdown",
   "metadata": {},
   "source": [
    "$max \\sum{b_i*v_i}$\n",
    "\n",
    "$\\sqrt{(ex_j-x_i)^2+(ey_j-y_i)^2} \\geq min\\_dist$\n",
    "\n",
    "$\\sum{b_i} \\leq max\\_units$\n",
    "\n",
    "$i \\in \\{1...len(clusters)\\}$\n",
    "\n",
    "$j \\in \\{1...len(elecricity)\\}$"
   ]
  },
  {
   "cell_type": "code",
   "execution_count": 2,
   "metadata": {},
   "outputs": [
    {
     "data": {
      "text/plain": [
       "model1opt (generic function with 4 methods)"
      ]
     },
     "execution_count": 2,
     "metadata": {},
     "output_type": "execute_result"
    }
   ],
   "source": [
    "function model1opt(max_units = 25, min_dist = 1, filter_density = 0.005)\n",
    "    model1 = Model(Cbc.Optimizer)\n",
    "\n",
    "    df= CSV.read(\"data.csv\", copycols=true)\n",
    "    electricity = CSV.read(\"electricity.csv\", copycols=true)\n",
    "    fdf = filter(row -> row[:value] > filter_density, df)\n",
    "\n",
    "    m = size(fdf)[1]\n",
    "    n = size(electricity)[1]\n",
    "\n",
    "    @variable(model1, b[1:m], Bin)\n",
    "\n",
    "    @constraint(model1,sum(b[i] for i=1:m)<=max_units)\n",
    "\n",
    "    for i=1:m\n",
    "        for j=1:n\n",
    "            @constraint(model1, sqrt((fdf[7][i] - electricity[2][j])^2+(fdf[8][i] - electricity[3][j])^2) >= min_dist*b[i])\n",
    "        end\n",
    "    end\n",
    "\n",
    "    @objective(model1, Max, sum(fdf[9][i]*b[i] for i = 1:m))\n",
    "\n",
    "    model1;\n",
    "    \n",
    "    optimize!(model1)\n",
    "    obj_val = objective_value(model1)\n",
    "    \n",
    "    soln = value.(b)\n",
    "    sol = [fdf.Location[i] for (i,n) in enumerate(soln) if n == 1]\n",
    "    \n",
    "    return (max_units, min_dist, filter_density, obj_val, length(sol), sol)\n",
    "end"
   ]
  },
  {
   "cell_type": "code",
   "execution_count": null,
   "metadata": {},
   "outputs": [
    {
     "name": "stderr",
     "output_type": "stream",
     "text": [
      "┌ Warning: `getindex(df::DataFrame, col_ind::ColumnIndex)` is deprecated, use `df[!, col_ind]` instead.\n",
      "│   caller = macro expansion at rewrite.jl:227 [inlined]\n",
      "└ @ Core /Users/alandler/.julia/packages/MutableArithmetics/ZGFsK/src/rewrite.jl:227\n",
      "┌ Warning: `getindex(df::DataFrame, col_ind::ColumnIndex)` is deprecated, use `df[!, col_ind]` instead.\n",
      "│   caller = macro expansion at rewrite.jl:227 [inlined]\n",
      "└ @ Core /Users/alandler/.julia/packages/MutableArithmetics/ZGFsK/src/rewrite.jl:227\n",
      "┌ Warning: `getindex(df::DataFrame, col_ind::ColumnIndex)` is deprecated, use `df[!, col_ind]` instead.\n",
      "│   caller = macro expansion at rewrite.jl:227 [inlined]\n",
      "└ @ Core /Users/alandler/.julia/packages/MutableArithmetics/ZGFsK/src/rewrite.jl:227\n",
      "┌ Warning: `getindex(df::DataFrame, col_ind::ColumnIndex)` is deprecated, use `df[!, col_ind]` instead.\n",
      "│   caller = macro expansion at rewrite.jl:227 [inlined]\n",
      "└ @ Core /Users/alandler/.julia/packages/MutableArithmetics/ZGFsK/src/rewrite.jl:227\n"
     ]
    }
   ],
   "source": [
    "# filter_list = [.005 .01 .025]\n",
    "max_val_list = [10 20 25 50]\n",
    "min_dist = [.1 .25 .5 .75 1]\n",
    "\n",
    "results1 = []\n",
    "\n",
    "for mval in max_val_list\n",
    "    for mdis in min_dist\n",
    "        push!(results1, model1opt(mval, mdis, .005))\n",
    "    end\n",
    "end\n",
    "\n",
    "rdf1 = DataFrame(results1)\n",
    "\n",
    "CSV.write(\"method1.csv\", rdf1)"
   ]
  },
  {
   "cell_type": "markdown",
   "metadata": {},
   "source": [
    "### Model 2: Maximum summation of distance and coverage."
   ]
  },
  {
   "cell_type": "markdown",
   "metadata": {},
   "source": [
    "$max \\sum{(b_i*v_i) + min\\{\\sqrt{(ex_j-x_i)^2+(ey_j-y_i)^2} \\text{for all } j\\}}$"
   ]
  },
  {
   "cell_type": "code",
   "execution_count": null,
   "metadata": {},
   "outputs": [],
   "source": [
    "function model2opt(max_units = 25, min_dist = 1, filter_density = 0)\n",
    "    model2 = Model(Cbc.Optimizer)\n",
    "\n",
    "    df= CSV.read(\"data.csv\", copycols=true)\n",
    "\n",
    "    fdf = filter(row -> row[:value] > filter_density, df)\n",
    "    electricity = CSV.read(\"electricity.csv\", copycols=true)\n",
    "    \n",
    "    m = size(fdf)[1]\n",
    "    n = size(electricity)[1]\n",
    "\n",
    "    @variable(model2, b[1:m], Bin)\n",
    "\n",
    "    @constraint(model2,sum(b[i] for i=1:m)<=max_units)\n",
    "\n",
    "    for i=1:m\n",
    "        for j=1:n\n",
    "            @constraint(model2, sqrt((fdf[7][i] - electricity[2][j])^2+(fdf[8][i] - electricity[3][j])^2) >= min_dist*b[i])\n",
    "        end\n",
    "    end\n",
    "\n",
    "    @objective(model2, Max, sum((fdf[9][i]+ minimum([sqrt((fdf[7][i] - electricity[2][j])^2+(fdf[8][i] - electricity[3][j])^2) for j=1:n]))*b[i] for i=1:m))\n",
    "    model2;\n",
    "    \n",
    "    optimize!(model2)\n",
    "    obj_val = objective_value(model2)\n",
    "    \n",
    "    soln = value.(b)\n",
    "    sol = [fdf.Location[i] for (i,n) in enumerate(soln) if n == 1]\n",
    "    \n",
    "    return (max_units, min_dist, filter_density, obj_val, length(sol), sol)\n",
    "end"
   ]
  },
  {
   "cell_type": "code",
   "execution_count": null,
   "metadata": {},
   "outputs": [],
   "source": [
    "# filter_list = [.005 .01 .025]\n",
    "max_val_list = [10 20 25 50]\n",
    "min_dist = [.1 .25 .5 .75 1]\n",
    "\n",
    "results2 = []\n",
    "\n",
    "for mval in max_val_list\n",
    "    for mdis in min_dist\n",
    "        push!(results2, model2opt(mval, mdis, .005))\n",
    "    end\n",
    "end\n",
    "\n",
    "rdf2 = DataFrame(results2)\n",
    "CSV.write(\"method2.csv\", rdf2)"
   ]
  },
  {
   "cell_type": "markdown",
   "metadata": {},
   "source": [
    "# Model 3"
   ]
  },
  {
   "cell_type": "code",
   "execution_count": null,
   "metadata": {},
   "outputs": [],
   "source": [
    "function model3opt(max_units = 25, min_dist = 1, filter_density = 0)\n",
    "    model3 = Model(Cbc.Optimizer)\n",
    "\n",
    "    df= CSV.read(\"data.csv\", copycols=true)\n",
    "\n",
    "    fdf = filter(row -> row[:value] > filter_density, df)\n",
    "    electricity = CSV.read(\"electricity.csv\", copycols=true)\n",
    "    \n",
    "    m = size(fdf)[1]\n",
    "    n = size(electricity)[1]\n",
    "\n",
    "    @variable(model3, b[1:m], Bin)\n",
    "\n",
    "    @constraint(model3,sum(b[i] for i=1:m)<=max_units)\n",
    "\n",
    "    for i=1:m\n",
    "        for j=1:n\n",
    "            @constraint(model3, sqrt((fdf[7][i] - electricity[2][j])^2+(fdf[8][i] - electricity[3][j])^2) >= min_dist*b[i])\n",
    "        end\n",
    "    end\n",
    "\n",
    "    @objective(model3, Max, sum((fdf[9][i]+ .1*minimum([sqrt((fdf[7][i] - electricity[2][j])^2+(fdf[8][i] - electricity[3][j])^2) for j=1:n]))*b[i] for i=1:m))\n",
    "    model3;\n",
    "    \n",
    "    optimize!(model3)\n",
    "    obj_val = objective_value(model3)\n",
    "    \n",
    "    soln = value.(b)\n",
    "    sol = [fdf.Location[i] for (i,n) in enumerate(soln) if n == 1]\n",
    "    \n",
    "    return (max_units, min_dist, filter_density, obj_val, length(sol), sol)\n",
    "end"
   ]
  },
  {
   "cell_type": "code",
   "execution_count": null,
   "metadata": {},
   "outputs": [],
   "source": [
    "# filter_list = [.005 .01 .025]\n",
    "max_val_list = [10 20 25 50]\n",
    "min_dist = [.1 .25 .5 .75 1]\n",
    "\n",
    "results3 = []\n",
    "\n",
    "for mval in max_val_list\n",
    "    for mdis in min_dist\n",
    "        push!(results3, model3opt(mval, mdis, .005))\n",
    "    end\n",
    "end\n",
    "\n",
    "rdf3 = DataFrame(results3)\n",
    "\n",
    "CSV.write(\"method3.csv\", rdf3)"
   ]
  },
  {
   "cell_type": "code",
   "execution_count": null,
   "metadata": {},
   "outputs": [],
   "source": [
    "function model4opt(max_units = 25, min_dist = 1, filter_density = 0)\n",
    "    model4 = Model(Cbc.Optimizer)\n",
    "\n",
    "    df= CSV.read(\"data.csv\", copycols=true)\n",
    "\n",
    "    fdf = filter(row -> row[:value] > filter_density, df)\n",
    "    electricity = CSV.read(\"electricity.csv\", copycols=true)\n",
    "    \n",
    "    m = size(fdf)[1]\n",
    "    n = size(electricity)[1]\n",
    "\n",
    "    @variable(model4, b[1:m], Bin)\n",
    "\n",
    "    @constraint(model4,sum(b[i] for i=1:m)<=max_units)\n",
    "\n",
    "    for i=1:m\n",
    "        for j=1:n\n",
    "            @constraint(model4, sqrt((fdf[7][i] - electricity[2][j])^2+(fdf[8][i] - electricity[3][j])^2) >= min_dist*b[i])\n",
    "        end\n",
    "    end\n",
    "\n",
    "    @objective(model4, Max, sum((fdf[9][i]-.1*minimum([sqrt((fdf[7][i] - electricity[2][j])^2+(fdf[8][i] - electricity[3][j])^2) for j=1:n]))*b[i] for i=1:m))\n",
    "    model4;\n",
    "    \n",
    "    optimize!(model4)\n",
    "    obj_val = objective_value(model4)\n",
    "    \n",
    "    soln = value.(b)\n",
    "    sol = [fdf.Location[i] for (i,n) in enumerate(soln) if n == 1]\n",
    "    \n",
    "    return (max_units, min_dist, filter_density, obj_val, length(sol), sol)\n",
    "end"
   ]
  },
  {
   "cell_type": "code",
   "execution_count": null,
   "metadata": {},
   "outputs": [],
   "source": [
    "# filter_list = [.005 .01 .025]\n",
    "max_val_list = [10 20 25 50]\n",
    "min_dist = [.1 .25 .5 .75 1]\n",
    "\n",
    "results4 = []\n",
    "\n",
    "for mval in max_val_list\n",
    "    for mdis in min_dist\n",
    "        push!(results4, model4opt(mval, mdis, .005))\n",
    "    end\n",
    "end\n",
    "\n",
    "rdf4 = DataFrame(results4)\n",
    "\n",
    "CSV.write(\"method4.csv\", rdf4)"
   ]
  }
 ],
 "metadata": {
  "@webio": {
   "lastCommId": null,
   "lastKernelId": null
  },
  "kernelspec": {
   "display_name": "Julia 1.3.1",
   "language": "julia",
   "name": "julia-1.3"
  },
  "language_info": {
   "file_extension": ".jl",
   "mimetype": "application/julia",
   "name": "julia",
   "version": "1.3.1"
  }
 },
 "nbformat": 4,
 "nbformat_minor": 2
}
