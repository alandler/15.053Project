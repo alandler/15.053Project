{
 "cells": [
  {
   "cell_type": "code",
   "execution_count": 1,
   "metadata": {},
   "outputs": [],
   "source": [
    "using Gurobi, LinearAlgebra, Ipopt, CSV, JuMP, DataFrames, Clp"
   ]
  },
  {
   "cell_type": "markdown",
   "metadata": {},
   "source": [
    "### Model 1: Maximum coverage with a limit of areas that can be covered, x and y not within .01 of existing electricity"
   ]
  },
  {
   "cell_type": "code",
   "execution_count": 76,
   "metadata": {},
   "outputs": [
    {
     "name": "stderr",
     "output_type": "stream",
     "text": [
      "┌ Warning: `with_optimizer` is deprecated. Adapt the following example to update your code:\n",
      "│ `with_optimizer(Ipopt.Optimizer)` becomes `Ipopt.Optimizer`.\n",
      "│   caller = top-level scope at In[76]:1\n",
      "└ @ Core In[76]:1\n",
      "┌ Warning: `getindex(df::DataFrame, col_ind::ColumnIndex)` is deprecated, use `df[!, col_ind]` instead.\n",
      "│   caller = macro expansion at rewrite.jl:227 [inlined]\n",
      "└ @ Core /Users/alandler/.julia/packages/MutableArithmetics/ZGFsK/src/rewrite.jl:227\n"
     ]
    },
    {
     "name": "stdout",
     "output_type": "stream",
     "text": [
      "Academic license - for non-commercial use only\n"
     ]
    },
    {
     "name": "stderr",
     "output_type": "stream",
     "text": [
      "┌ Warning: `getindex(df::DataFrame, col_ind::ColumnIndex)` is deprecated, use `df[!, col_ind]` instead.\n",
      "│   caller = macro expansion at rewrite.jl:227 [inlined]\n",
      "└ @ Core /Users/alandler/.julia/packages/MutableArithmetics/ZGFsK/src/rewrite.jl:227\n",
      "┌ Warning: `getindex(df::DataFrame, col_ind::ColumnIndex)` is deprecated, use `df[!, col_ind]` instead.\n",
      "│   caller = macro expansion at rewrite.jl:227 [inlined]\n",
      "└ @ Core /Users/alandler/.julia/packages/MutableArithmetics/ZGFsK/src/rewrite.jl:227\n",
      "┌ Warning: `getindex(df::DataFrame, col_ind::ColumnIndex)` is deprecated, use `df[!, col_ind]` instead.\n",
      "│   caller = macro expansion at rewrite.jl:227 [inlined]\n",
      "└ @ Core /Users/alandler/.julia/packages/MutableArithmetics/ZGFsK/src/rewrite.jl:227\n",
      "┌ Warning: `getindex(df::DataFrame, col_ind::ColumnIndex)` is deprecated, use `df[!, col_ind]` instead.\n",
      "│   caller = macro expansion at rewrite.jl:227 [inlined]\n",
      "└ @ Core /Users/alandler/.julia/packages/MutableArithmetics/ZGFsK/src/rewrite.jl:227\n"
     ]
    }
   ],
   "source": [
    "model1 = Model(with_optimizer(Gurobi.Optimizer))\n",
    "\n",
    "max_units = 25\n",
    "\n",
    "df= CSV.read(\"data.csv\", copycols=true)\n",
    "electricity = CSV.read(\"electricity.csv\", copycols=true)\n",
    "fdf = filter(row -> row[:value] > .0025, df)\n",
    "m = size(fdf)[1]\n",
    "n = size(electricity)[1]\n",
    "\n",
    "@variable(model1, b[1:m], Bin)\n",
    "\n",
    "@constraint(model1,sum(b[i] for i=1:m)<=max_units)\n",
    "\n",
    "for i=1:m\n",
    "    for j=1:n\n",
    "        @constraint(model1, abs(fdf[7][i] - electricity[2][j])*b[i] >= .00001)\n",
    "        @constraint(model1, abs(fdf[8][i] - electricity[3][j])*b[i] >= .00001)\n",
    "    end\n",
    "end\n",
    "\n",
    "@objective(model1, Max, sum(fdf[9][i]*b[i] for i = 1:m))\n",
    "\n",
    "model1;"
   ]
  },
  {
   "cell_type": "code",
   "execution_count": 77,
   "metadata": {},
   "outputs": [
    {
     "name": "stdout",
     "output_type": "stream",
     "text": [
      "Academic license - for non-commercial use only\n",
      "Gurobi Optimizer version 9.0.1 build v9.0.1rc0 (mac64)\n",
      "Optimize a model with 554605 rows, 1227 columns and 555831 nonzeros\n",
      "Model fingerprint: 0x32f8c3c6\n",
      "Variable types: 0 continuous, 1227 integer (1227 binary)\n",
      "Coefficient statistics:\n",
      "  Matrix range     [8e-05, 3e+00]\n",
      "  Objective range  [3e-03, 5e-01]\n",
      "  Bounds range     [0e+00, 0e+00]\n",
      "  RHS range        [1e-05, 2e+01]\n",
      "Presolve time: 0.07s\n",
      "\n",
      "Explored 0 nodes (0 simplex iterations) in 0.14 seconds\n",
      "Thread count was 1 (of 8 available processors)\n",
      "\n",
      "Solution count 0\n",
      "\n",
      "Model is infeasible or unbounded\n",
      "Best objective -, best bound -, gap -\n"
     ]
    }
   ],
   "source": [
    "optimize!(model1)"
   ]
  },
  {
   "cell_type": "code",
   "execution_count": 78,
   "metadata": {},
   "outputs": [
    {
     "ename": "MathOptInterface.ResultIndexBoundsError{MathOptInterface.ObjectiveValue}",
     "evalue": "Result index of attribute MathOptInterface.ObjectiveValue(1) out of bounds. There are currently 0 solution(s) in the model.",
     "output_type": "error",
     "traceback": [
      "Result index of attribute MathOptInterface.ObjectiveValue(1) out of bounds. There are currently 0 solution(s) in the model.",
      "",
      "Stacktrace:",
      " [1] check_result_index_bounds at /Users/alandler/.julia/packages/MathOptInterface/RmalA/src/attributes.jl:133 [inlined]",
      " [2] get at /Users/alandler/.julia/packages/Gurobi/CI8ht/src/MOI_wrapper.jl:2073 [inlined]",
      " [3] get(::MathOptInterface.Bridges.LazyBridgeOptimizer{Gurobi.Optimizer}, ::MathOptInterface.ObjectiveValue) at /Users/alandler/.julia/packages/MathOptInterface/RmalA/src/Bridges/bridge_optimizer.jl:646",
      " [4] get(::MathOptInterface.Utilities.CachingOptimizer{MathOptInterface.AbstractOptimizer,MathOptInterface.Utilities.UniversalFallback{MathOptInterface.Utilities.Model{Float64}}}, ::MathOptInterface.ObjectiveValue) at /Users/alandler/.julia/packages/MathOptInterface/RmalA/src/Utilities/cachingoptimizer.jl:493",
      " [5] _moi_get_result(::MathOptInterface.Utilities.CachingOptimizer{MathOptInterface.AbstractOptimizer,MathOptInterface.Utilities.UniversalFallback{MathOptInterface.Utilities.Model{Float64}}}, ::MathOptInterface.ObjectiveValue) at /Users/alandler/.julia/packages/JuMP/CZ8vV/src/JuMP.jl:787",
      " [6] get(::Model, ::MathOptInterface.ObjectiveValue) at /Users/alandler/.julia/packages/JuMP/CZ8vV/src/JuMP.jl:800",
      " [7] #objective_value#32(::Int64, ::typeof(objective_value), ::Model) at /Users/alandler/.julia/packages/JuMP/CZ8vV/src/objective.jl:31",
      " [8] objective_value(::Model) at /Users/alandler/.julia/packages/JuMP/CZ8vV/src/objective.jl:31",
      " [9] top-level scope at In[78]:1"
     ]
    }
   ],
   "source": [
    "objective_value(model1)"
   ]
  },
  {
   "cell_type": "code",
   "execution_count": 79,
   "metadata": {},
   "outputs": [
    {
     "ename": "MathOptInterface.ResultIndexBoundsError{MathOptInterface.VariablePrimal}",
     "evalue": "Result index of attribute MathOptInterface.VariablePrimal(1) out of bounds. There are currently 0 solution(s) in the model.",
     "output_type": "error",
     "traceback": [
      "Result index of attribute MathOptInterface.VariablePrimal(1) out of bounds. There are currently 0 solution(s) in the model.",
      "",
      "Stacktrace:",
      " [1] check_result_index_bounds at /Users/alandler/.julia/packages/MathOptInterface/RmalA/src/attributes.jl:133 [inlined]",
      " [2] get(::Gurobi.Optimizer, ::MathOptInterface.VariablePrimal, ::MathOptInterface.VariableIndex) at /Users/alandler/.julia/packages/Gurobi/CI8ht/src/MOI_wrapper.jl:1933",
      " [3] get(::MathOptInterface.Bridges.LazyBridgeOptimizer{Gurobi.Optimizer}, ::MathOptInterface.VariablePrimal, ::MathOptInterface.VariableIndex) at /Users/alandler/.julia/packages/MathOptInterface/RmalA/src/Bridges/bridge_optimizer.jl:752",
      " [4] get(::MathOptInterface.Utilities.CachingOptimizer{MathOptInterface.AbstractOptimizer,MathOptInterface.Utilities.UniversalFallback{MathOptInterface.Utilities.Model{Float64}}}, ::MathOptInterface.VariablePrimal, ::MathOptInterface.VariableIndex) at /Users/alandler/.julia/packages/MathOptInterface/RmalA/src/Utilities/cachingoptimizer.jl:508",
      " [5] _moi_get_result(::MathOptInterface.Utilities.CachingOptimizer{MathOptInterface.AbstractOptimizer,MathOptInterface.Utilities.UniversalFallback{MathOptInterface.Utilities.Model{Float64}}}, ::MathOptInterface.VariablePrimal, ::Vararg{Any,N} where N) at /Users/alandler/.julia/packages/JuMP/CZ8vV/src/JuMP.jl:787",
      " [6] get(::Model, ::MathOptInterface.VariablePrimal, ::VariableRef) at /Users/alandler/.julia/packages/JuMP/CZ8vV/src/JuMP.jl:817",
      " [7] #value#28(::Int64, ::typeof(value), ::VariableRef) at /Users/alandler/.julia/packages/JuMP/CZ8vV/src/variables.jl:767",
      " [8] value at /Users/alandler/.julia/packages/JuMP/CZ8vV/src/variables.jl:767 [inlined]",
      " [9] _broadcast_getindex_evalf at ./broadcast.jl:630 [inlined]",
      " [10] _broadcast_getindex at ./broadcast.jl:603 [inlined]",
      " [11] getindex at ./broadcast.jl:563 [inlined]",
      " [12] macro expansion at ./broadcast.jl:909 [inlined]",
      " [13] macro expansion at ./simdloop.jl:77 [inlined]",
      " [14] copyto! at ./broadcast.jl:908 [inlined]",
      " [15] copyto! at ./broadcast.jl:863 [inlined]",
      " [16] copy at ./broadcast.jl:839 [inlined]",
      " [17] materialize(::Base.Broadcast.Broadcasted{Base.Broadcast.DefaultArrayStyle{1},Nothing,typeof(value),Tuple{Array{VariableRef,1}}}) at ./broadcast.jl:819",
      " [18] top-level scope at In[79]:1"
     ]
    }
   ],
   "source": [
    "soln = value.(b)\n",
    "sol = [i for (i,n) in enumerate(soln) if n == 1]\n",
    "print(sol)"
   ]
  },
  {
   "cell_type": "markdown",
   "metadata": {},
   "source": [
    "### Iteration 1: max_val = 25, filter .0025, distance .0001, 009, .045, 09, .111, \n",
    "3.907821227000001\n",
    "[59, 374, 438, 483, 492, 511, 546, 547, 598, 599, 633, 634, 635, 650, 671, 673, 674, 713, 714, 928, 929, 973, 974, 1008, 1024]\n",
    "###"
   ]
  },
  {
   "cell_type": "markdown",
   "metadata": {},
   "source": [
    "### Model 2: Maximum summation of distance and coverage."
   ]
  },
  {
   "cell_type": "code",
   "execution_count": 86,
   "metadata": {},
   "outputs": [
    {
     "name": "stderr",
     "output_type": "stream",
     "text": [
      "┌ Warning: `with_optimizer` is deprecated. Adapt the following example to update your code:\n",
      "│ `with_optimizer(Ipopt.Optimizer)` becomes `Ipopt.Optimizer`.\n",
      "│   caller = top-level scope at In[86]:1\n",
      "└ @ Core In[86]:1\n",
      "┌ Warning: `getindex(df::DataFrame, col_ind::ColumnIndex)` is deprecated, use `df[!, col_ind]` instead.\n",
      "│   caller = top-level scope at rewrite.jl:227\n",
      "└ @ Core /Users/alandler/.julia/packages/MutableArithmetics/ZGFsK/src/rewrite.jl:227\n"
     ]
    },
    {
     "name": "stdout",
     "output_type": "stream",
     "text": [
      "Academic license - for non-commercial use only\n"
     ]
    },
    {
     "name": "stderr",
     "output_type": "stream",
     "text": [
      "┌ Warning: `getindex(df::DataFrame, col_ind::ColumnIndex)` is deprecated, use `df[!, col_ind]` instead.\n",
      "│   caller = top-level scope at rewrite.jl:227\n",
      "└ @ Core /Users/alandler/.julia/packages/MutableArithmetics/ZGFsK/src/rewrite.jl:227\n",
      "┌ Warning: `getindex(df::DataFrame, col_ind::ColumnIndex)` is deprecated, use `df[!, col_ind]` instead.\n",
      "│   caller = top-level scope at rewrite.jl:227\n",
      "└ @ Core /Users/alandler/.julia/packages/MutableArithmetics/ZGFsK/src/rewrite.jl:227\n",
      "┌ Warning: `getindex(df::DataFrame, col_ind::ColumnIndex)` is deprecated, use `df[!, col_ind]` instead.\n",
      "│   caller = top-level scope at rewrite.jl:227\n",
      "└ @ Core /Users/alandler/.julia/packages/MutableArithmetics/ZGFsK/src/rewrite.jl:227\n",
      "┌ Warning: `getindex(df::DataFrame, col_ind::ColumnIndex)` is deprecated, use `df[!, col_ind]` instead.\n",
      "│   caller = top-level scope at rewrite.jl:227\n",
      "└ @ Core /Users/alandler/.julia/packages/MutableArithmetics/ZGFsK/src/rewrite.jl:227\n"
     ]
    }
   ],
   "source": [
    "model2 = Model(with_optimizer(Gurobi.Optimizer))\n",
    "\n",
    "df= CSV.read(\"data.csv\", copycols=true)\n",
    "max_units = 25\n",
    "fdf = filter(row -> row[:value] > .0025, df)\n",
    "m = size(fdf)[1]\n",
    "n = size(electricity)[1]\n",
    "electricity = CSV.read(\"electricity.csv\", copycols=true)\n",
    "\n",
    "@variable(model2, b[1:m], Bin)\n",
    "\n",
    "@constraint(model2,sum(b[i] for i=1:m)<=max_units)\n",
    "\n",
    "@objective(model2, Max, sum(fdf[9][i]*b[i]+abs(fdf[7][i] - electricity[2][j])+abs(fdf[8][i] - electricity[3][j]) for i = 1:m for j=1:n))\n",
    "\n",
    "model2;"
   ]
  },
  {
   "cell_type": "code",
   "execution_count": null,
   "metadata": {},
   "outputs": [],
   "source": [
    "optimize!(model2)\n",
    "objective_value(model2)"
   ]
  },
  {
   "cell_type": "code",
   "execution_count": 84,
   "metadata": {},
   "outputs": [
    {
     "name": "stderr",
     "output_type": "stream",
     "text": [
      "┌ Warning: `getindex(df::DataFrame, col_ind::ColumnIndex)` is deprecated, use `df[!, col_ind]` instead.\n",
      "│   caller = top-level scope at In[84]:5\n",
      "└ @ Core ./In[84]:5\n",
      "┌ Warning: `getindex(df::DataFrame, col_ind::ColumnIndex)` is deprecated, use `df[!, col_ind]` instead.\n",
      "│   caller = top-level scope at In[84]:5\n",
      "└ @ Core ./In[84]:5\n"
     ]
    },
    {
     "data": {
      "text/plain": [
       "277302-element Array{Any,1}:\n",
       " 0.00011462176525256496\n",
       " 0.00011462176525256496\n",
       " 0.00011462176525256496\n",
       " 0.00011462176525256496\n",
       " 0.00011462176525256496\n",
       " 0.00011462176525256496\n",
       " 0.00011462176525256496\n",
       " 0.00011462176525256496\n",
       " 0.00011462176525256496\n",
       " 0.00011462176525256496\n",
       " 0.00011462176525256496\n",
       " 0.00011462176525256496\n",
       " 0.00011462176525256496\n",
       " ⋮                     \n",
       " 2.9229891342632968    \n",
       " 2.9229891342632968    \n",
       " 2.9229891342632968    \n",
       " 2.9230192670812905    \n",
       " 2.9230192670812905    \n",
       " 2.9230192670812905    \n",
       " 2.923313142025359     \n",
       " 2.923313142025359     \n",
       " 2.923313142025359     \n",
       " 2.92333660196363      \n",
       " 2.92333660196363      \n",
       " 2.92333660196363      "
      ]
     },
     "execution_count": 84,
     "metadata": {},
     "output_type": "execute_result"
    }
   ],
   "source": [
    "arr = []\n",
    "\n",
    "for i=1:m\n",
    "    for j=1:size(electricity)[1]\n",
    "        push!(arr,(minimum([abs(fdf[7][i] - electricity[2][j])])))\n",
    "    end\n",
    "end\n",
    "\n",
    "sort(arr)"
   ]
  },
  {
   "cell_type": "code",
   "execution_count": null,
   "metadata": {},
   "outputs": [],
   "source": []
  }
 ],
 "metadata": {
  "@webio": {
   "lastCommId": null,
   "lastKernelId": null
  },
  "kernelspec": {
   "display_name": "Julia 1.3.1",
   "language": "julia",
   "name": "julia-1.3"
  },
  "language_info": {
   "file_extension": ".jl",
   "mimetype": "application/julia",
   "name": "julia",
   "version": "1.3.1"
  }
 },
 "nbformat": 4,
 "nbformat_minor": 2
}
